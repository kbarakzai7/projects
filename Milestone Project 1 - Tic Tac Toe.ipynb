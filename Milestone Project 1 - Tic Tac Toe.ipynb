{
 "cells": [
  {
   "cell_type": "code",
   "execution_count": 28,
   "metadata": {},
   "outputs": [],
   "source": [
    "## Problem 1 - Print out empty grid\n",
    "r1 = ['  ','|','  ','|','  ']\n",
    "r2 = {'------------'}\n",
    "r3 = ['  ','|','  ','|','  ']\n",
    "r5 = ['  ','|','  ','|','  ']\n",
    "\n",
    "from IPython.display import clear_output\n",
    "def display (row1,row2,row3,row5):\n",
    "    print(\"\\n:\")\n",
    "\n",
    "    clear_output()\n",
    "    print(*row1) #* prints list/string without '' and enclosing brackets\n",
    "    print(*row2)\n",
    "    print(*row3)\n",
    "    print(*row2)\n",
    "    print(*row5)\n",
    "    \n"
   ]
  },
  {
   "cell_type": "code",
   "execution_count": 29,
   "metadata": {},
   "outputs": [],
   "source": [
    "def cleargrid(r1,r2,r3,r5):\n",
    "    r1 = ['  ','|','  ','|','  ']\n",
    "    r2 = {'------------'}\n",
    "    r3 = ['  ','|','  ','|','  ']\n",
    "    r5 = ['  ','|','  ','|','  ']"
   ]
  },
  {
   "cell_type": "code",
   "execution_count": 30,
   "metadata": {},
   "outputs": [],
   "source": [
    "r11=[1,11,2,11,3]\n",
    "r31=[4,11,5,11,6]\n",
    "r51=[7,11,8,11,9]\n",
    "\n",
    "def updategrid (userchoice,XorO):\n",
    "    if userchoice<4:\n",
    "        c = r11.index(userchoice)\n",
    "        r1[c]= XorO\n",
    "    elif userchoice>3 and userchoice<7:\n",
    "        c = r31.index(userchoice)\n",
    "        r3[c]= XorO\n",
    "    else:\n",
    "        c = r51.index(userchoice)\n",
    "        r5[c]= XorO"
   ]
  },
  {
   "cell_type": "code",
   "execution_count": 31,
   "metadata": {
    "scrolled": true
   },
   "outputs": [
    {
     "name": "stdout",
     "output_type": "stream",
     "text": [
      "   |    |   \n",
      "------------\n",
      "   |    |   \n",
      "------------\n",
      "   |    |   \n"
     ]
    }
   ],
   "source": [
    "display(r1,r2,r3,r5)"
   ]
  },
  {
   "cell_type": "code",
   "execution_count": 32,
   "metadata": {},
   "outputs": [],
   "source": [
    "## Problem 2 - Print out numerical positions on the grid for player reference\n",
    "r6 = [' 1 ','|','2 ','|','3 ']\n",
    "r7 = {'-------------'}\n",
    "r8 = [' 4 ','|','5 ','|','6 ']\n",
    "r9 = [' 7 ','|','8 ','|','9 ']\n",
    "\n",
    "\n",
    "def display_positions(row1,row2,row3,row5):\n",
    "    print(\"\\nHere are the grid positions: \")\n",
    "    print(\"\\n\")\n",
    "    \n",
    "    \n",
    "    print(*row1) # * prints list/string without '' and enclosing brackets\n",
    "    print(*row2)\n",
    "    print(*row3)\n",
    "    print(*row2)\n",
    "    print(*row5)"
   ]
  },
  {
   "cell_type": "code",
   "execution_count": 33,
   "metadata": {},
   "outputs": [
    {
     "name": "stdout",
     "output_type": "stream",
     "text": [
      "\n",
      "Here are the grid positions: \n",
      "\n",
      "\n",
      " 1  | 2  | 3 \n",
      "-------------\n",
      " 4  | 5  | 6 \n",
      "-------------\n",
      " 7  | 8  | 9 \n"
     ]
    }
   ],
   "source": [
    "display_positions(r6,r7,r8,r9)"
   ]
  },
  {
   "cell_type": "code",
   "execution_count": 34,
   "metadata": {},
   "outputs": [],
   "source": [
    "## Problem 3 - Ask user if they want to play TIC TAC TOE\n",
    "\n",
    "def gameon():\n",
    "    \n",
    "    choice = 'wrong'\n",
    "    \n",
    "    while choice.upper() not in ['Y','N']:\n",
    "        \n",
    "        choice = input(\"Would you like to play Tic Tac Toe? (Y or N): \")\n",
    "        \n",
    "        if choice.upper() not in ['Y','N']:\n",
    "            print(\"Sorry, I don't understand, please choose Y or N and hit Enter!\")\n",
    "    \n",
    "    if choice.upper() ==\"Y\":\n",
    "        return True\n",
    "    else:\n",
    "        return False"
   ]
  },
  {
   "cell_type": "code",
   "execution_count": 35,
   "metadata": {},
   "outputs": [],
   "source": [
    "## Problem 5 - Ask player 1 if they want to be X or O\n",
    "\n",
    "def player1XorO():\n",
    "    \n",
    "    player1choice = 'wrong'\n",
    "    player2choice = 'O'\n",
    "    \n",
    "    while player1choice not in ['X','O']:\n",
    "        player1choice = input(\"Player 1, please choose if you'd like to be X or O: \")\n",
    "        \n",
    "        if player1choice not in ['X','O']:\n",
    "            print(\"Sorry, invalid choice! (Make sure it's capital X or O)\")\n",
    "            \n",
    "    \n",
    "    if player1choice == 'X':\n",
    "        player2choice == 'O'\n",
    "    else:\n",
    "        player2choice == 'X'\n",
    "        \n",
    "    return player1choice     ##we only have to know one of the choices to know the other\n",
    "    \n",
    "  "
   ]
  },
  {
   "cell_type": "code",
   "execution_count": 36,
   "metadata": {},
   "outputs": [
    {
     "name": "stdout",
     "output_type": "stream",
     "text": [
      "Player 1, please choose if you'd like to be X or O: X\n"
     ]
    },
    {
     "data": {
      "text/plain": [
       "'X'"
      ]
     },
     "execution_count": 36,
     "metadata": {},
     "output_type": "execute_result"
    }
   ],
   "source": [
    "player1XorO()"
   ]
  },
  {
   "cell_type": "code",
   "execution_count": 37,
   "metadata": {},
   "outputs": [],
   "source": [
    "\n",
    "acceptable_positions=[1,2,3,4,5,6,7,8,9]\n",
    "    "
   ]
  },
  {
   "cell_type": "code",
   "execution_count": 38,
   "metadata": {},
   "outputs": [],
   "source": [
    "## Problem 6 - Ask player where they would like to place \"X (or O)\"\n",
    "\n",
    "def position_choice(acceptable_positions):\n",
    "    \n",
    "    choice = \"wrong\"\n",
    "    acceptable_range=range(1,10)\n",
    "    within_range = False\n",
    "    \n",
    "   ## open_acceptable_values = create a union of acceptable values and open positions\n",
    "    \n",
    "    #Conditions to check:\n",
    "    #is it a number?\n",
    "    #is the number between 1-9 (if yes, check if already filled)\n",
    "    #has that position been played already?\n",
    "    \n",
    "    while choice.isdigit() == False or within_range == False:\n",
    "        \n",
    "        choice = input(\"\\nPlease choose a valid position on the grid between 1 to 9: \")\n",
    "        \n",
    "        if choice.isdigit() == False:\n",
    "            print(\"\\nSorry, please enter a number between 1 to 9 that has not been played yet\")\n",
    "            \n",
    "        if choice.isdigit() == True:\n",
    "            if int(choice) in acceptable_range and int(choice) in acceptable_positions:\n",
    "                within_range = True\n",
    "\n",
    "            elif int(choice) not in acceptable_range:\n",
    "                    print(\"\\nSorry, please enter a valid number between 1 to 9\")\n",
    "                    \n",
    "            elif int(choice) not in acceptable_positions:\n",
    "                print(f'\\nSorry, \"{choice}\" has already been played, please choose again!')\n",
    "                print(f'Positions left to play: {acceptable_positions}')\n",
    "                within_range = False\n",
    "               \n",
    "    return int(choice)\n",
    "            "
   ]
  },
  {
   "cell_type": "code",
   "execution_count": null,
   "metadata": {},
   "outputs": [],
   "source": []
  },
  {
   "cell_type": "code",
   "execution_count": 39,
   "metadata": {},
   "outputs": [],
   "source": [
    "winning_patterns = [[1,2,3],[4,5,6],[7,8,9],[1,4,7],[2,5,8],[3,6,9],[1,5,9],[3,5,7]]"
   ]
  },
  {
   "cell_type": "code",
   "execution_count": 40,
   "metadata": {},
   "outputs": [],
   "source": [
    "def winortie(p1grid,p2grid,winning_patterns):\n",
    "\n",
    "    win = 0\n",
    "\n",
    "    for i in range(0,len(winning_patterns)):\n",
    "\n",
    "        b= set(winning_patterns[i]).intersection(p1grid)\n",
    "        \n",
    "        c= set(winning_patterns[i]).intersection(p2grid)\n",
    "\n",
    "        #Check if player 1 (if intersection is 3, than there was an exact match)\n",
    "        if len(b) == 3:\n",
    "\n",
    "            print(\"Player 1 Wins\")\n",
    "            print(winning_patterns[i])\n",
    "            win = True\n",
    "            return 1\n",
    "        \n",
    "        elif len(c) == 3:\n",
    "        \n",
    "            print(\"Player 2 Wins!\")\n",
    "            print(winning_patterns[i])\n",
    "            win = True\n",
    "            return 2\n",
    "        \n",
    "        elif len(p1grid)+len(p2grid) == 9:\n",
    "            print(\"Tie game\")\n",
    "            return 3\n",
    "        \n",
    "    return win\n"
   ]
  },
  {
   "cell_type": "code",
   "execution_count": 41,
   "metadata": {},
   "outputs": [
    {
     "name": "stdout",
     "output_type": "stream",
     "text": [
      "Would you like to play Tic Tac Toe? (Y or N): N\n",
      "Okay, goodbye!\n"
     ]
    }
   ],
   "source": [
    "### TIC TAC TOE Function ## \n",
    "\n",
    "n=0  #reset to 0 when game starts\n",
    "winning_patterns = [[1,2,3],[4,5,6],[7,8,9],[1,4,7],[2,5,8],[3,6,9],[1,5,9],[3,5,7]]\n",
    "acceptable_positions=[1,2,3,4,5,6,7,8,9]\n",
    "player1='X'\n",
    "player2='O'\n",
    "game_on = gameon() #ask once if they want to play\n",
    "\n",
    "if game_on == False:\n",
    "    print(\"Okay, goodbye!\")\n",
    "\n",
    "while game_on:\n",
    "    print(\"Welcome to Tic Tac Toe, player 1 will 'X'\")\n",
    "    print(\"and player 2 will be 'O'\")\n",
    "    \n",
    "    if n==0: #get game started, clear grid\n",
    "        display_positions(r6,r7,r8,r9)\n",
    "        \n",
    "        r1 = ['  ','|','  ','|','  ']\n",
    "        r2 = {'------------'}\n",
    "        r3 = ['  ','|','  ','|','  ']\n",
    "        r5 = ['  ','|','  ','|','  ']\n",
    "        \n",
    "    #Loop while they are playing \n",
    "    \n",
    "    p1grid=[]\n",
    "    p2grid=[]\n",
    "    \n",
    "    while n<9:\n",
    "            \n",
    "    #Ask Player  where they want to play their first position\n",
    "        \n",
    "        positionplayed=position_choice(acceptable_positions)\n",
    "\n",
    "        if n%2==0: #player 1 grid\n",
    "            p1grid.append(positionplayed)\n",
    "            updategrid(positionplayed,player1)\n",
    "            print(player1)\n",
    "            display(r1,r2,r3,r5)\n",
    "        else: #player 2 grid (positions played)\n",
    "            p2grid.append(positionplayed)\n",
    "            updategrid(positionplayed,player2)\n",
    "            display(r1,r2,r3,r5)\n",
    "    #Pop played number from available positions (1-9)\n",
    "    \n",
    "        acceptable_positions.remove(positionplayed)\n",
    "        print(f'Positions left to play: {acceptable_positions}')\n",
    "     \n",
    "    #Check if either player won:\n",
    "    \n",
    "        whowon = winortie(p1grid,p2grid,winning_patterns)\n",
    "    \n",
    "        if whowon != 0:\n",
    "            game_on = False\n",
    "            print(\"\\nGame Over, thanks for playing!\")\n",
    "            game_on = gameon() \n",
    "            break\n",
    "        else:\n",
    "            pass     \n",
    "\n",
    "        n+=1\n"
   ]
  },
  {
   "cell_type": "code",
   "execution_count": null,
   "metadata": {},
   "outputs": [],
   "source": []
  },
  {
   "cell_type": "markdown",
   "metadata": {},
   "source": [
    "##### "
   ]
  }
 ],
 "metadata": {
  "kernelspec": {
   "display_name": "Python 3",
   "language": "python",
   "name": "python3"
  },
  "language_info": {
   "codemirror_mode": {
    "name": "ipython",
    "version": 3
   },
   "file_extension": ".py",
   "mimetype": "text/x-python",
   "name": "python",
   "nbconvert_exporter": "python",
   "pygments_lexer": "ipython3",
   "version": "3.8.5"
  }
 },
 "nbformat": 4,
 "nbformat_minor": 4
}
